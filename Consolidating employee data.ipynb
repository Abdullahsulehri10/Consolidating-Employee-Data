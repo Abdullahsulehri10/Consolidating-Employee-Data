{
 "cells": [
  {
   "cell_type": "markdown",
   "id": "243a702c-5afc-4606-8163-417b722e76af",
   "metadata": {},
   "source": [
    "You just got hired as the first and only data practitioner at a small business experiencing exponential growth. The company needs more structured processes, guidelines, and standards. Your first mission is to structure the human resources data. The data is currently scattered across teams and files and comes in various formats: Excel files, CSVs, JSON files...\n",
    "\n",
    "You'll work with the following data in the `datasets` folder:\n",
    "- __Office addresses__ are currently saved in `office_addresses.csv`. If the value for office is `NaN`, then the employee is remote. \n",
    "- __Employee addresses__ are saved on the first tab of `employee_information.xlsx`.\n",
    "- __Employee emergency contacts__ are saved on the second tab of `employee_information.xlsx`; this tab is called `emergency_contacts`. However, this sheet was edited at some point, and the headers were removed! The HR manager let you know that they should be: `employee_id`, `last_name`, `first_name`, `emergency_contact`, `emergency_contact_number`, and `relationship`.\n",
    "- __Employee roles, teams, and salaries__ have been exported from the company's human resources management system into a JSON file titled `employee_roles.json`. Here are the first few lines of that file:\n",
    "```\n",
    "{\"A2R5H9\":\n",
    "  {\n",
    "    \"title\": \"CEO\",\n",
    "    \"monthly_salary\": \"$4500\",\n",
    "    \"team\": \"Leadership\"\n",
    "  },\n",
    " ...\n",
    "}"
   ]
  },
  {
   "cell_type": "code",
   "execution_count": 3,
   "id": "d0eb4f16-5a99-460d-a5ba-706b7ef0bbe7",
   "metadata": {
    "executionCancelledAt": null,
    "executionTime": 168,
    "id": "bA5ajAmk7XH6",
    "lastExecutedAt": 1687430285626,
    "lastScheduledRunId": null,
    "lastSuccessfullyExecutedCode": "import pandas as pd\n\n# Read in office_addresses.csv\noffices = pd.read_csv(\"datasets/office_addresses.csv\")\n\n# Declare a list of columns to keep from addresses\naddresses_cols = [\"employee_id\", \"employee_country\", \"employee_city\", \"employee_street\", \"employee_street_number\"]\n\n# Read in employee_information.xlsx\naddresses = pd.read_excel(\"datasets/employee_information.xlsx\",\n                         usecols=addresses_cols)\n\n# Declare a list of new column names\nemergency_contacts_header = [\"employee_id\", \"last_name\", \"first_name\",\n                             \"emergency_contact\", \"emergency_contact_number\", \"relationship\"]\n\n# Read in employee_information.xlsx\nemergency_contacts = pd.read_excel(\"datasets/employee_information.xlsx\", \n                                   sheet_name=\"emergency_contacts\", \n                                   header=None,\n                                   names=emergency_contacts_header)\n\n# Read in employee_roles.json\nroles = pd.read_json(\"datasets/employee_roles.json\", orient=\"index\")\n\n# Merge addresses with offices\nemployees = addresses.merge(offices, left_on=\"employee_country\", right_on=\"office_country\", how=\"left\")\n\n# Merge employees with roles\nemployees = employees.merge(roles, left_on=\"employee_id\", right_on=roles.index)\n\n# Merge employees with emergency_contacts\nemployees = employees.merge(emergency_contacts, on=\"employee_id\")\n\n# Fill null values in office columns\nfor col in [\"office\", \"office_country\", \"office_city\", \"office_street\", \"office_street_number\"]:\n    employees[col].fillna(\"Remote\", inplace=True)\n    \n# Create final columns\nfinal_columns = [\"employee_id\", \"first_name\", \"last_name\", \"employee_country\", \n                 \"employee_city\", \"employee_street\", \"employee_street_number\", \n                 \"emergency_contact\", \"emergency_contact_number\", \"relationship\", \n                 \"monthly_salary\", \"team\", \"title\", \"office\", \"office_country\", \n                 \"office_city\", \"office_street\", \"office_street_number\"]\n\n# Subset for the required columns\nemployees_final = employees[final_columns]\n\n# Set employee_id as the index\nemployees_final.set_index(\"employee_id\", inplace=True)"
   },
   "outputs": [],
   "source": [
    "import pandas as pd\n",
    "\n",
    "# Read in office_addresses.csv\n",
    "offices = pd.read_csv(\"datasets/office_addresses.csv\")\n",
    "\n",
    "# Declare a list of columns to keep from addresses\n",
    "addresses_cols = [\"employee_id\", \"employee_country\", \"employee_city\", \"employee_street\", \"employee_street_number\"]\n",
    "\n",
    "# Read in employee_information.xlsx\n",
    "addresses = pd.read_excel(\"datasets/employee_information.xlsx\",\n",
    "                         usecols=addresses_cols)\n",
    "\n",
    "# Declare a list of new column names\n",
    "emergency_contacts_header = [\"employee_id\", \"last_name\", \"first_name\",\n",
    "                             \"emergency_contact\", \"emergency_contact_number\", \"relationship\"]\n",
    "\n",
    "# Read in employee_information.xlsx\n",
    "emergency_contacts = pd.read_excel(\"datasets/employee_information.xlsx\", \n",
    "                                   sheet_name=\"emergency_contacts\", \n",
    "                                   header=None,\n",
    "                                   names=emergency_contacts_header)\n",
    "\n",
    "# Read in employee_roles.json\n",
    "roles = pd.read_json(\"datasets/employee_roles.json\", orient=\"index\")\n",
    "\n",
    "# Merge addresses with offices\n",
    "employees = addresses.merge(offices, left_on=\"employee_country\", right_on=\"office_country\", how=\"left\")\n",
    "\n",
    "# Merge employees with roles\n",
    "employees = employees.merge(roles, left_on=\"employee_id\", right_on=roles.index)\n",
    "\n",
    "# Merge employees with emergency_contacts\n",
    "employees = employees.merge(emergency_contacts, on=\"employee_id\")\n",
    "\n",
    "# Fill null values in office columns\n",
    "for col in [\"office\", \"office_country\", \"office_city\", \"office_street\", \"office_street_number\"]:\n",
    "    employees[col].fillna(\"Remote\", inplace=True)\n",
    "    \n",
    "# Create final columns\n",
    "final_columns = [\"employee_id\", \"first_name\", \"last_name\", \"employee_country\", \n",
    "                 \"employee_city\", \"employee_street\", \"employee_street_number\", \n",
    "                 \"emergency_contact\", \"emergency_contact_number\", \"relationship\", \n",
    "                 \"monthly_salary\", \"team\", \"title\", \"office\", \"office_country\", \n",
    "                 \"office_city\", \"office_street\", \"office_street_number\"]\n",
    "\n",
    "# Subset for the required columns\n",
    "employees_final = employees[final_columns]\n",
    "\n",
    "# Set employee_id as the index\n",
    "employees_final.set_index(\"employee_id\", inplace=True)"
   ]
  },
  {
   "cell_type": "code",
   "execution_count": 4,
   "id": "4dc0e1f6-1c7e-4f14-97c3-f512c6320d00",
   "metadata": {
    "executionCancelledAt": null,
    "executionTime": 37,
    "lastExecutedAt": 1687430307322,
    "lastScheduledRunId": null,
    "lastSuccessfullyExecutedCode": "employees_final"
   },
   "outputs": [
    {
     "data": {
      "application/com.datacamp.data-table.v1+json": {
       "table": {
        "data": [
         {
          "emergency_contact": "Opie Hurst",
          "emergency_contact_number": "+32-456-5556-84",
          "employee_city": "Leuven",
          "employee_country": "BE",
          "employee_id": "A2R5H9",
          "employee_street": "Grote Markt",
          "employee_street_number": 9,
          "first_name": "Jax",
          "last_name": "Hunman",
          "monthly_salary": "$4500",
          "office": "Leuven Office",
          "office_city": "Leuven",
          "office_country": "BE",
          "office_street": "Martelarenlaan",
          "office_street_number": 38,
          "relationship": "Brother",
          "team": "Leadership",
          "title": "CEO"
         },
         {
          "emergency_contact": "Wendy de Matteo",
          "emergency_contact_number": "+44-020-5554-333",
          "employee_city": "London",
          "employee_country": "GB",
          "employee_id": "H8K0L6",
          "employee_street": "Baker Street",
          "employee_street_number": 221,
          "first_name": "Tara",
          "last_name": "Siff",
          "monthly_salary": "$4500",
          "office": "WeWork Office",
          "office_city": "London",
          "office_country": "GB",
          "office_street": "Old Street",
          "office_street_number": 207,
          "relationship": "Sister",
          "team": "Leadership",
          "title": "CFO"
         },
         {
          "emergency_contact": "John Newmark",
          "emergency_contact_number": "+1-202-555-194",
          "employee_city": "New-York",
          "employee_country": "US",
          "employee_id": "G4R7V0",
          "employee_street": "Perry Street",
          "employee_street_number": 66,
          "first_name": "Gemma",
          "last_name": "Sagal",
          "monthly_salary": "$3000",
          "office": "ESB Office",
          "office_city": "New York City",
          "office_country": "US",
          "office_street": "Fifth Avenue",
          "office_street_number": 350,
          "relationship": "Husband",
          "team": "Sales",
          "title": "Business Developer"
         },
         {
          "emergency_contact": "Venus Noone",
          "emergency_contact_number": "+1-202-555-0130",
          "employee_city": "Paris",
          "employee_country": "FR",
          "employee_id": "M1Z7U9",
          "employee_street": "Rue de l'Université",
          "employee_street_number": 7,
          "first_name": "Tig",
          "last_name": "Coates",
          "monthly_salary": "$2000",
          "office": "Remote",
          "office_city": "Remote",
          "office_country": "Remote",
          "office_street": "Remote",
          "office_street_number": "Remote",
          "relationship": "Wife",
          "team": "People Operations",
          "title": "Office Manager"
         }
        ],
        "schema": {
         "fields": [
          {
           "name": "employee_id",
           "type": "string"
          },
          {
           "name": "first_name",
           "type": "string"
          },
          {
           "name": "last_name",
           "type": "string"
          },
          {
           "name": "employee_country",
           "type": "string"
          },
          {
           "name": "employee_city",
           "type": "string"
          },
          {
           "name": "employee_street",
           "type": "string"
          },
          {
           "name": "employee_street_number",
           "type": "integer"
          },
          {
           "name": "emergency_contact",
           "type": "string"
          },
          {
           "name": "emergency_contact_number",
           "type": "string"
          },
          {
           "name": "relationship",
           "type": "string"
          },
          {
           "name": "monthly_salary",
           "type": "string"
          },
          {
           "name": "team",
           "type": "string"
          },
          {
           "name": "title",
           "type": "string"
          },
          {
           "name": "office",
           "type": "string"
          },
          {
           "name": "office_country",
           "type": "string"
          },
          {
           "name": "office_city",
           "type": "string"
          },
          {
           "name": "office_street",
           "type": "string"
          },
          {
           "name": "office_street_number",
           "type": "string"
          }
         ],
         "pandas_version": "1.4.0",
         "primaryKey": [
          "employee_id"
         ]
        }
       },
       "total_rows": 4,
       "truncation_type": null
      },
      "text/html": [
       "<div>\n",
       "<style scoped>\n",
       "    .dataframe tbody tr th:only-of-type {\n",
       "        vertical-align: middle;\n",
       "    }\n",
       "\n",
       "    .dataframe tbody tr th {\n",
       "        vertical-align: top;\n",
       "    }\n",
       "\n",
       "    .dataframe thead th {\n",
       "        text-align: right;\n",
       "    }\n",
       "</style>\n",
       "<table border=\"1\" class=\"dataframe\">\n",
       "  <thead>\n",
       "    <tr style=\"text-align: right;\">\n",
       "      <th></th>\n",
       "      <th>first_name</th>\n",
       "      <th>last_name</th>\n",
       "      <th>employee_country</th>\n",
       "      <th>employee_city</th>\n",
       "      <th>employee_street</th>\n",
       "      <th>employee_street_number</th>\n",
       "      <th>emergency_contact</th>\n",
       "      <th>emergency_contact_number</th>\n",
       "      <th>relationship</th>\n",
       "      <th>monthly_salary</th>\n",
       "      <th>team</th>\n",
       "      <th>title</th>\n",
       "      <th>office</th>\n",
       "      <th>office_country</th>\n",
       "      <th>office_city</th>\n",
       "      <th>office_street</th>\n",
       "      <th>office_street_number</th>\n",
       "    </tr>\n",
       "    <tr>\n",
       "      <th>employee_id</th>\n",
       "      <th></th>\n",
       "      <th></th>\n",
       "      <th></th>\n",
       "      <th></th>\n",
       "      <th></th>\n",
       "      <th></th>\n",
       "      <th></th>\n",
       "      <th></th>\n",
       "      <th></th>\n",
       "      <th></th>\n",
       "      <th></th>\n",
       "      <th></th>\n",
       "      <th></th>\n",
       "      <th></th>\n",
       "      <th></th>\n",
       "      <th></th>\n",
       "      <th></th>\n",
       "    </tr>\n",
       "  </thead>\n",
       "  <tbody>\n",
       "    <tr>\n",
       "      <th>A2R5H9</th>\n",
       "      <td>Jax</td>\n",
       "      <td>Hunman</td>\n",
       "      <td>BE</td>\n",
       "      <td>Leuven</td>\n",
       "      <td>Grote Markt</td>\n",
       "      <td>9</td>\n",
       "      <td>Opie Hurst</td>\n",
       "      <td>+32-456-5556-84</td>\n",
       "      <td>Brother</td>\n",
       "      <td>$4500</td>\n",
       "      <td>Leadership</td>\n",
       "      <td>CEO</td>\n",
       "      <td>Leuven Office</td>\n",
       "      <td>BE</td>\n",
       "      <td>Leuven</td>\n",
       "      <td>Martelarenlaan</td>\n",
       "      <td>38.0</td>\n",
       "    </tr>\n",
       "    <tr>\n",
       "      <th>H8K0L6</th>\n",
       "      <td>Tara</td>\n",
       "      <td>Siff</td>\n",
       "      <td>GB</td>\n",
       "      <td>London</td>\n",
       "      <td>Baker Street</td>\n",
       "      <td>221</td>\n",
       "      <td>Wendy de Matteo</td>\n",
       "      <td>+44-020-5554-333</td>\n",
       "      <td>Sister</td>\n",
       "      <td>$4500</td>\n",
       "      <td>Leadership</td>\n",
       "      <td>CFO</td>\n",
       "      <td>WeWork Office</td>\n",
       "      <td>GB</td>\n",
       "      <td>London</td>\n",
       "      <td>Old Street</td>\n",
       "      <td>207.0</td>\n",
       "    </tr>\n",
       "    <tr>\n",
       "      <th>G4R7V0</th>\n",
       "      <td>Gemma</td>\n",
       "      <td>Sagal</td>\n",
       "      <td>US</td>\n",
       "      <td>New-York</td>\n",
       "      <td>Perry Street</td>\n",
       "      <td>66</td>\n",
       "      <td>John Newmark</td>\n",
       "      <td>+1-202-555-194</td>\n",
       "      <td>Husband</td>\n",
       "      <td>$3000</td>\n",
       "      <td>Sales</td>\n",
       "      <td>Business Developer</td>\n",
       "      <td>ESB Office</td>\n",
       "      <td>US</td>\n",
       "      <td>New York City</td>\n",
       "      <td>Fifth Avenue</td>\n",
       "      <td>350.0</td>\n",
       "    </tr>\n",
       "    <tr>\n",
       "      <th>M1Z7U9</th>\n",
       "      <td>Tig</td>\n",
       "      <td>Coates</td>\n",
       "      <td>FR</td>\n",
       "      <td>Paris</td>\n",
       "      <td>Rue de l'Université</td>\n",
       "      <td>7</td>\n",
       "      <td>Venus Noone</td>\n",
       "      <td>+1-202-555-0130</td>\n",
       "      <td>Wife</td>\n",
       "      <td>$2000</td>\n",
       "      <td>People Operations</td>\n",
       "      <td>Office Manager</td>\n",
       "      <td>Remote</td>\n",
       "      <td>Remote</td>\n",
       "      <td>Remote</td>\n",
       "      <td>Remote</td>\n",
       "      <td>Remote</td>\n",
       "    </tr>\n",
       "  </tbody>\n",
       "</table>\n",
       "</div>"
      ],
      "text/plain": [
       "            first_name last_name  ...   office_street office_street_number\n",
       "employee_id                       ...                                     \n",
       "A2R5H9             Jax    Hunman  ...  Martelarenlaan                 38.0\n",
       "H8K0L6            Tara      Siff  ...      Old Street                207.0\n",
       "G4R7V0           Gemma     Sagal  ...    Fifth Avenue                350.0\n",
       "M1Z7U9             Tig    Coates  ...          Remote               Remote\n",
       "\n",
       "[4 rows x 17 columns]"
      ]
     },
     "execution_count": 4,
     "metadata": {},
     "output_type": "execute_result"
    }
   ],
   "source": [
    "employees_final"
   ]
  }
 ],
 "metadata": {
  "colab": {
   "name": "Welcome to DataCamp Workspaces.ipynb",
   "provenance": []
  },
  "kernelspec": {
   "display_name": "Python 3 (ipykernel)",
   "language": "python",
   "name": "python3"
  },
  "language_info": {
   "codemirror_mode": {
    "name": "ipython",
    "version": 3
   },
   "file_extension": ".py",
   "mimetype": "text/x-python",
   "name": "python",
   "nbconvert_exporter": "python",
   "pygments_lexer": "ipython3",
   "version": "3.10.9"
  }
 },
 "nbformat": 4,
 "nbformat_minor": 5
}
